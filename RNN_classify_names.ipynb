{
 "cells": [
  {
   "cell_type": "markdown",
   "metadata": {},
   "source": [
    "# Classifying Names with a Character-Level RNN "
   ]
  },
  {
   "cell_type": "markdown",
   "metadata": {},
   "source": [
    "#### http://pytorch.org/tutorials/intermediate/char_rnn_classification_tutorial.html"
   ]
  },
  {
   "cell_type": "markdown",
   "metadata": {},
   "source": [
    "## Preparing the Data"
   ]
  },
  {
   "cell_type": "code",
   "execution_count": 6,
   "metadata": {},
   "outputs": [
    {
     "name": "stdout",
     "output_type": "stream",
     "text": [
      "['data/RNN_names/names/Korean.txt', 'data/RNN_names/names/Chinese.txt', 'data/RNN_names/names/Japanese.txt', 'data/RNN_names/names/Polish.txt', 'data/RNN_names/names/Portuguese.txt', 'data/RNN_names/names/Greek.txt', 'data/RNN_names/names/English.txt', 'data/RNN_names/names/Italian.txt', 'data/RNN_names/names/German.txt', 'data/RNN_names/names/Czech.txt', 'data/RNN_names/names/Dutch.txt', 'data/RNN_names/names/Arabic.txt', 'data/RNN_names/names/Vietnamese.txt', 'data/RNN_names/names/Scottish.txt', 'data/RNN_names/names/Irish.txt', 'data/RNN_names/names/French.txt', 'data/RNN_names/names/Spanish.txt', 'data/RNN_names/names/Russian.txt']\n"
     ]
    }
   ],
   "source": [
    "from __future__ import unicode_literals, print_function, division\n",
    "from io import open\n",
    "import glob\n",
    "\n",
    "def findFiles(path): \n",
    "    ## glob用于查找符合特定规则的文件路径名\n",
    "    return glob.glob(path)\n",
    "\n",
    "files = findFiles('data/RNN_names/names/*.txt')\n",
    "print(files)"
   ]
  },
  {
   "cell_type": "code",
   "execution_count": 17,
   "metadata": {},
   "outputs": [
    {
     "name": "stdout",
     "output_type": "stream",
     "text": [
      "Slusarski\n",
      "<---(category, num)--->\n",
      "[('Korean', 94), ('Chinese', 268), ('Japanese', 991), ('Polish', 139), ('Portuguese', 74), ('Greek', 203), ('English', 3668), ('Italian', 709), ('German', 724), ('Czech', 519), ('Dutch', 297), ('Arabic', 2000), ('Vietnamese', 73), ('Scottish', 100), ('Irish', 232), ('French', 277), ('Spanish', 298), ('Russian', 9408)]\n"
     ]
    }
   ],
   "source": [
    "import unicodedata\n",
    "import string\n",
    "\n",
    "all_letters = string.ascii_letters + \" .,;'\"\n",
    "n_letters = len(all_letters)\n",
    "\n",
    "# Turn a Unicode string to plain ASCII, thanks to http://stackoverflow.com/a/518232/2809427\n",
    "# remove all the accents (diacritics声调) in string\n",
    "def unicodeToAscii(s):\n",
    "    return ''.join(\n",
    "        c for c in unicodedata.normalize('NFD', s)\n",
    "        if unicodedata.category(c) != 'Mn'\n",
    "        and c in all_letters\n",
    "    )\n",
    "\n",
    "print(unicodeToAscii('Ślusàrski'))\n",
    "\n",
    "# Build the category_lines dictionary, a list of names per language\n",
    "category_lines = {}\n",
    "all_categories = []\n",
    "\n",
    "# Read a file and split into lines\n",
    "def readLines(filename):\n",
    "    lines = open(filename, encoding='utf-8').read().strip().split('\\n')\n",
    "    return [unicodeToAscii(line) for line in lines]\n",
    "\n",
    "for filename in files:\n",
    "    category = filename.split('/')[-1].split('.')[0]\n",
    "    all_categories.append(category)\n",
    "    lines = readLines(filename)\n",
    "    category_lines[category] = lines\n",
    "\n",
    "n_categories = len(all_categories)\n",
    "print('<---(category, num)--->')\n",
    "print(list(zip(all_categories, [len(category_lines[category]) for category in all_categories])))"
   ]
  },
  {
   "cell_type": "code",
   "execution_count": 18,
   "metadata": {},
   "outputs": [
    {
     "name": "stdout",
     "output_type": "stream",
     "text": [
      "['Abandonato', 'Abatangelo', 'Abatantuono', 'Abate', 'Abategiovanni']\n"
     ]
    }
   ],
   "source": [
    "print(category_lines['Italian'][:5])"
   ]
  },
  {
   "cell_type": "markdown",
   "metadata": {},
   "source": [
    "## Turning Names into Tensors "
   ]
  },
  {
   "cell_type": "code",
   "execution_count": 22,
   "metadata": {},
   "outputs": [
    {
     "name": "stdout",
     "output_type": "stream",
     "text": [
      "<--Letter 'J' to Tensor-->\n",
      "\n",
      "\n",
      "Columns 0 to 12 \n",
      "    0     0     0     0     0     0     0     0     0     0     0     0     0\n",
      "\n",
      "Columns 13 to 25 \n",
      "    0     0     0     0     0     0     0     0     0     0     0     0     0\n",
      "\n",
      "Columns 26 to 38 \n",
      "    0     0     0     0     0     0     0     0     0     1     0     0     0\n",
      "\n",
      "Columns 39 to 51 \n",
      "    0     0     0     0     0     0     0     0     0     0     0     0     0\n",
      "\n",
      "Columns 52 to 56 \n",
      "    0     0     0     0     0\n",
      "[torch.FloatTensor of size 1x57]\n",
      "\n",
      "<--Name 'Jones' to Tensor-->\n",
      "torch.Size([5, 1, 57])\n"
     ]
    }
   ],
   "source": [
    "import torch\n",
    "\n",
    "# Find letter index from all_letters, e.g. \"a\" = 0\n",
    "def letterToIndex(letter):\n",
    "    return all_letters.find(letter)\n",
    "\n",
    "# Just for demonstration, turn a letter into a <1 x n_letters> Tensor\n",
    "def letterToTensor(letter):\n",
    "    tensor = torch.zeros(1, n_letters)\n",
    "    tensor[0][letterToIndex(letter)] = 1\n",
    "    return tensor\n",
    "\n",
    "# Turn a line into a <line_length x 1 x n_letters>,\n",
    "# or an array of one-hot letter vectors\n",
    "def lineToTensor(line):\n",
    "    tensor = torch.zeros(len(line), 1, n_letters)\n",
    "    for li, letter in enumerate(line):\n",
    "        tensor[li][0][letterToIndex(letter)] = 1\n",
    "    return tensor\n",
    "\n",
    "print('<--Letter \\'J\\' to Tensor-->')\n",
    "print(letterToTensor('J'))\n",
    "\n",
    "print('<--Name \\'Jones\\' to Tensor-->')\n",
    "print(lineToTensor('Jones').size())"
   ]
  },
  {
   "cell_type": "markdown",
   "metadata": {},
   "source": [
    "## Creating the Network"
   ]
  },
  {
   "cell_type": "code",
   "execution_count": 25,
   "metadata": {},
   "outputs": [
    {
     "name": "stdout",
     "output_type": "stream",
     "text": [
      "RNN(\n",
      "  (i2h): Linear(in_features=185, out_features=128)\n",
      "  (i2o): Linear(in_features=185, out_features=18)\n",
      "  (softmax): LogSoftmax()\n",
      ")\n"
     ]
    }
   ],
   "source": [
    "import torch.nn as nn\n",
    "from torch.autograd import Variable\n",
    "\n",
    "class RNN(nn.Module):\n",
    "    def __init__(self, input_size, hidden_size, output_size):\n",
    "        super(RNN, self).__init__()\n",
    "\n",
    "        self.hidden_size = hidden_size\n",
    "\n",
    "        self.i2h = nn.Linear(input_size + hidden_size, hidden_size)\n",
    "        self.i2o = nn.Linear(input_size + hidden_size, output_size)\n",
    "        self.softmax = nn.LogSoftmax(dim=1)\n",
    "\n",
    "    def forward(self, input, hidden):\n",
    "        combined = torch.cat((input, hidden), 1)\n",
    "        hidden = self.i2h(combined)\n",
    "        output = self.i2o(combined)\n",
    "        output = self.softmax(output)\n",
    "        return output, hidden\n",
    "\n",
    "    def initHidden(self):\n",
    "        return Variable(torch.zeros(1, self.hidden_size))\n",
    "\n",
    "n_hidden = 128\n",
    "rnn = RNN(n_letters, n_hidden, n_categories)\n",
    "\n",
    "print(rnn)"
   ]
  },
  {
   "cell_type": "code",
   "execution_count": 33,
   "metadata": {},
   "outputs": [
    {
     "name": "stdout",
     "output_type": "stream",
     "text": [
      "Variable containing:\n",
      "\n",
      "Columns 0 to 9 \n",
      "-2.8816 -2.9671 -2.8503 -2.9129 -2.8631 -2.9907 -2.8257 -2.8612 -2.8919 -2.9241\n",
      "\n",
      "Columns 10 to 17 \n",
      "-2.8148 -2.9024 -2.9934 -2.9065 -2.8280 -2.8472 -2.9464 -2.8454\n",
      "[torch.FloatTensor of size 1x18]\n",
      "\n"
     ]
    }
   ],
   "source": [
    "input = Variable(letterToTensor('Albert'))\n",
    "# hidden state initialized as zeros at first\n",
    "hidden = Variable(torch.zeros(1, n_hidden))\n",
    "\n",
    "output, next_hidden = rnn(input, hidden)\n",
    "# every item in output is the likelihood of that category (higher is more likely)\n",
    "# note that the model has not been train yet\n",
    "print(output)"
   ]
  },
  {
   "cell_type": "markdown",
   "metadata": {},
   "source": [
    "## Training "
   ]
  },
  {
   "cell_type": "markdown",
   "metadata": {},
   "source": [
    "## Preparing for Training"
   ]
  },
  {
   "cell_type": "code",
   "execution_count": 36,
   "metadata": {},
   "outputs": [
    {
     "name": "stdout",
     "output_type": "stream",
     "text": [
      "('Dutch', 10)\n"
     ]
    }
   ],
   "source": [
    "def categoryFromOutput(output):\n",
    "    top_n, top_i = output.data.topk(1) # Tensor out of Variable with .data\n",
    "    category_i = top_i[0][0]\n",
    "    return all_categories[category_i], category_i\n",
    "\n",
    "print(categoryFromOutput(output))"
   ]
  },
  {
   "cell_type": "code",
   "execution_count": 38,
   "metadata": {},
   "outputs": [
    {
     "name": "stdout",
     "output_type": "stream",
     "text": [
      "category = French / line = Beaumont\n",
      "category = Dutch / line = Ryskamp\n",
      "category = German / line = Tobias\n",
      "category = Korean / line = Baik\n",
      "category = German / line = Goebel\n",
      "category = Scottish / line = Mcintosh\n",
      "category = German / line = Faust\n",
      "category = Czech / line = Michalovic\n",
      "category = Greek / line = Bekyros\n",
      "category = Greek / line = Alexandropoulos\n"
     ]
    }
   ],
   "source": [
    "import random\n",
    "\n",
    "def randomChoice(l):\n",
    "    return l[random.randint(0, len(l) - 1)]\n",
    "\n",
    "def randomTrainingExample():\n",
    "    category = randomChoice(all_categories)\n",
    "    line = randomChoice(category_lines[category])\n",
    "    category_tensor = Variable(torch.LongTensor([all_categories.index(category)]))\n",
    "    line_tensor = Variable(lineToTensor(line))\n",
    "    return category, line, category_tensor, line_tensor\n",
    "\n",
    "for i in range(10):\n",
    "    category, line, category_tensor, line_tensor = randomTrainingExample()\n",
    "    print('category =', category, '/ line =', line)"
   ]
  },
  {
   "cell_type": "markdown",
   "metadata": {},
   "source": [
    "## Training the Network"
   ]
  },
  {
   "cell_type": "code",
   "execution_count": 39,
   "metadata": {
    "collapsed": true
   },
   "outputs": [],
   "source": [
    "criterion = nn.NLLLoss()"
   ]
  },
  {
   "cell_type": "code",
   "execution_count": 40,
   "metadata": {
    "collapsed": true
   },
   "outputs": [],
   "source": [
    "# Each loop of training will:\n",
    "# Create input and target tensors\n",
    "# Create a zeroed initial hidden state\n",
    "# Read each letter in and\n",
    "# Keep hidden state for next letter\n",
    "# Compare final output to target\n",
    "# Back-propagate\n",
    "# Return the output and loss\n",
    "learning_rate = 0.005 # If you set this too high, it might explode. If too low, it might not learn\n",
    "\n",
    "def train(category_tensor, line_tensor):\n",
    "    hidden = rnn.initHidden()\n",
    "\n",
    "    rnn.zero_grad()\n",
    "\n",
    "    for i in range(line_tensor.size()[0]):\n",
    "        output, hidden = rnn(line_tensor[i], hidden)\n",
    "\n",
    "    loss = criterion(output, category_tensor)\n",
    "    loss.backward()\n",
    "\n",
    "    # Add parameters' gradients to their values, multiplied by learning rate\n",
    "    for p in rnn.parameters():\n",
    "        p.data.add_(-learning_rate, p.grad.data)\n",
    "\n",
    "    return output, loss.data[0]"
   ]
  },
  {
   "cell_type": "code",
   "execution_count": 48,
   "metadata": {},
   "outputs": [
    {
     "name": "stdout",
     "output_type": "stream",
     "text": [
      "5000 2% (0m 6s) 0.5474 Baldi / Italian ✓\n",
      "10000 5% (0m 12s) 0.1889 Vyjutovich / Russian ✓\n",
      "15000 7% (0m 19s) 2.1576 Kwan / Korean ✗ (Chinese)\n",
      "20000 10% (0m 26s) 4.3529 Raskop / Czech ✗ (German)\n",
      "25000 12% (0m 32s) 1.0073 Sneijer / Dutch ✓\n",
      "30000 15% (0m 37s) 0.0232 Balboni / Italian ✓\n",
      "35000 17% (0m 43s) 0.7790 Chu / Vietnamese ✓\n",
      "40000 20% (0m 48s) 2.5188 Friedrich / Russian ✗ (Czech)\n",
      "45000 22% (0m 53s) 0.4439 Vlasek / Czech ✓\n",
      "50000 25% (0m 59s) 0.8104 Murphy / Scottish ✓\n",
      "55000 27% (1m 4s) 2.8485 Jordan / English ✗ (German)\n",
      "60000 30% (1m 9s) 4.8124 Katz / German ✗ (Russian)\n",
      "65000 32% (1m 15s) 0.2501 Yanagita / Japanese ✓\n",
      "70000 35% (1m 21s) 2.0056 Yeomans / Dutch ✗ (English)\n",
      "75000 37% (1m 27s) 0.1495 Xie / Chinese ✓\n",
      "80000 40% (1m 33s) 0.7311 Wawrzaszek / Polish ✓\n",
      "85000 42% (1m 38s) 2.0324 Santos / Portuguese ✗ (Spanish)\n",
      "90000 45% (1m 44s) 2.7458 Chishu / Chinese ✗ (Japanese)\n",
      "95000 47% (1m 49s) 1.2479 Friedrich / German ✓\n",
      "100000 50% (1m 55s) 4.4779 Sip / Korean ✗ (Czech)\n",
      "105000 52% (2m 1s) 0.0850 Chevalier / French ✓\n",
      "110000 55% (2m 6s) 0.2777 Simpson / Scottish ✓\n",
      "115000 57% (2m 12s) 0.0047 Dabahov / Russian ✓\n",
      "120000 60% (2m 17s) 1.5043 Jobst / German ✗ (Czech)\n",
      "125000 62% (2m 23s) 0.6414 Davidson / Scottish ✓\n",
      "130000 65% (2m 28s) 0.5082 Venn / Dutch ✓\n",
      "135000 67% (2m 34s) 0.2350 Lac / Vietnamese ✓\n",
      "140000 70% (2m 39s) 2.2013 Machado / Japanese ✗ (Spanish)\n",
      "145000 72% (2m 45s) 3.8103 Vilimaa / Czech ✗ (Russian)\n",
      "150000 75% (2m 51s) 4.9393 Messerli / Italian ✗ (German)\n",
      "155000 77% (2m 57s) 0.2599 Matokai / Japanese ✓\n",
      "160000 80% (3m 3s) 3.6201 Cormac / Czech ✗ (Irish)\n",
      "165000 82% (3m 9s) 0.4196 Hagino / Japanese ✓\n",
      "170000 85% (3m 15s) 1.8547 Stedronsky / Russian ✗ (Czech)\n",
      "175000 87% (3m 20s) 0.5358 Deng / Chinese ✓\n",
      "180000 90% (3m 26s) 1.1147 Daher / Arabic ✓\n",
      "185000 92% (3m 32s) 0.6174 Mifsud / Arabic ✓\n",
      "190000 95% (3m 39s) 1.8057 Tseizik / Czech ✗ (Russian)\n",
      "195000 97% (3m 45s) 0.6569 Nakanoi / Japanese ✓\n",
      "200000 100% (3m 50s) 0.1958 BestuzhevRyumin / Russian ✓\n"
     ]
    }
   ],
   "source": [
    "import time\n",
    "import math\n",
    "\n",
    "n_iters = 200000\n",
    "print_every = 5000\n",
    "plot_every = 1000\n",
    "\n",
    "\n",
    "\n",
    "# Keep track of losses for plotting\n",
    "current_loss = 0\n",
    "all_losses = []\n",
    "\n",
    "def timeSince(since):\n",
    "    now = time.time()\n",
    "    s = now - since\n",
    "    m = math.floor(s / 60)\n",
    "    s -= m * 60\n",
    "    return '%dm %ds' % (m, s)\n",
    "\n",
    "start = time.time()\n",
    "\n",
    "for iter in range(1, n_iters + 1):\n",
    "    category, line, category_tensor, line_tensor = randomTrainingExample()\n",
    "    output, loss = train(category_tensor, line_tensor)\n",
    "    current_loss += loss\n",
    "\n",
    "    # Print iter number, loss, name and guess\n",
    "    if iter % print_every == 0:\n",
    "        guess, guess_i = categoryFromOutput(output)\n",
    "        correct = '✓' if guess == category else '✗ (%s)' % category\n",
    "        print('%d %d%% (%s) %.4f %s / %s %s' % (iter, iter / n_iters * 100, timeSince(start), loss, line, guess, correct))\n",
    "\n",
    "    # Add current loss avg to list of losses\n",
    "    if iter % plot_every == 0:\n",
    "        all_losses.append(current_loss / plot_every)\n",
    "        current_loss = 0"
   ]
  },
  {
   "cell_type": "code",
   "execution_count": 49,
   "metadata": {},
   "outputs": [
    {
     "data": {
      "text/plain": [
       "[<matplotlib.lines.Line2D at 0x7fe3f8879ac8>]"
      ]
     },
     "execution_count": 49,
     "metadata": {},
     "output_type": "execute_result"
    },
    {
     "data": {
      "image/png": "[encoded data removed]",
      "text/plain": [
       "<matplotlib.figure.Figure at 0x7fe3f8a05dd8>"
      ]
     },
     "metadata": {},
     "output_type": "display_data"
    }
   ],
   "source": [
    "import matplotlib.pyplot as plt\n",
    "import matplotlib.ticker as ticker\n",
    "\n",
    "%matplotlib inline\n",
    "plt.figure()\n",
    "plt.plot(all_losses)"
   ]
  },
  {
   "cell_type": "markdown",
   "metadata": {},
   "source": [
    "## Evaluating the Results "
   ]
  },
  {
   "cell_type": "code",
   "execution_count": 46,
   "metadata": {},
   "outputs": [
    {
     "data": {
      "image/png": "[encoded data removed]",
      "text/plain": [
       "<matplotlib.figure.Figure at 0x7fe3f89a8d68>"
      ]
     },
     "metadata": {},
     "output_type": "display_data"
    }
   ],
   "source": [
    "# Keep track of correct guesses in a confusion matrix\n",
    "confusion = torch.zeros(n_categories, n_categories)\n",
    "n_confusion = 10000\n",
    "\n",
    "# Just return an output given a line\n",
    "def evaluate(line_tensor):\n",
    "    hidden = rnn.initHidden()\n",
    "\n",
    "    for i in range(line_tensor.size()[0]):\n",
    "        output, hidden = rnn(line_tensor[i], hidden)\n",
    "\n",
    "    return output\n",
    "\n",
    "# Go through a bunch of examples and record which are correctly guessed\n",
    "for i in range(n_confusion):\n",
    "    category, line, category_tensor, line_tensor = randomTrainingExample()\n",
    "    output = evaluate(line_tensor)\n",
    "    guess, guess_i = categoryFromOutput(output)\n",
    "    category_i = all_categories.index(category)\n",
    "    confusion[category_i][guess_i] += 1\n",
    "\n",
    "# Normalize by dividing every row by its sum\n",
    "for i in range(n_categories):\n",
    "    confusion[i] = confusion[i] / confusion[i].sum()\n",
    "\n",
    "# Set up plot\n",
    "fig = plt.figure()\n",
    "ax = fig.add_subplot(111)\n",
    "cax = ax.matshow(confusion.numpy())\n",
    "fig.colorbar(cax)\n",
    "\n",
    "# Set up axes\n",
    "ax.set_xticklabels([''] + all_categories, rotation=90)\n",
    "ax.set_yticklabels([''] + all_categories)\n",
    "\n",
    "# Force label at every tick\n",
    "ax.xaxis.set_major_locator(ticker.MultipleLocator(1))\n",
    "ax.yaxis.set_major_locator(ticker.MultipleLocator(1))\n",
    "\n",
    "# sphinx_gallery_thumbnail_number = 2\n",
    "plt.show()"
   ]
  },
  {
   "cell_type": "markdown",
   "metadata": {},
   "source": [
    "## Running on User Input"
   ]
  },
  {
   "cell_type": "code",
   "execution_count": 47,
   "metadata": {},
   "outputs": [
    {
     "name": "stdout",
     "output_type": "stream",
     "text": [
      "\n",
      "> Dovesky\n",
      "(-0.81) Czech\n",
      "(-1.50) Russian\n",
      "(-1.62) Polish\n",
      "\n",
      "> Jackson\n",
      "(-0.60) Scottish\n",
      "(-1.44) English\n",
      "(-2.74) Russian\n",
      "\n",
      "> Satoshi\n",
      "(-1.12) Japanese\n",
      "(-1.50) Italian\n",
      "(-1.61) Arabic\n"
     ]
    }
   ],
   "source": [
    "def predict(input_line, n_predictions=3):\n",
    "    print('\\n> %s' % input_line)\n",
    "    output = evaluate(Variable(lineToTensor(input_line)))\n",
    "\n",
    "    # Get top N categories\n",
    "    topv, topi = output.data.topk(n_predictions, 1, True)\n",
    "    predictions = []\n",
    "\n",
    "    for i in range(n_predictions):\n",
    "        value = topv[0][i]\n",
    "        category_index = topi[0][i]\n",
    "        print('(%.2f) %s' % (value, all_categories[category_index]))\n",
    "        predictions.append([value, all_categories[category_index]])\n",
    "\n",
    "predict('Dovesky')\n",
    "predict('Jackson')\n",
    "predict('Satoshi')"
   ]
  }
 ],
 "metadata": {
  "kernelspec": {
   "display_name": "Python 3",
   "language": "python",
   "name": "python3"
  },
  "language_info": {
   "codemirror_mode": {
    "name": "ipython",
    "version": 3
   },
   "file_extension": ".py",
   "mimetype": "text/x-python",
   "name": "python",
   "nbconvert_exporter": "python",
   "pygments_lexer": "ipython3",
   "version": "3.6.3"
  }
 },
 "nbformat": 4,
 "nbformat_minor": 2
}
